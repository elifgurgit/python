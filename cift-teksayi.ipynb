{
 "cells": [
  {
   "cell_type": "code",
   "execution_count": 1,
   "metadata": {},
   "outputs": [
    {
     "name": "stdout",
     "output_type": "stream",
     "text": [
      "Sayı :45646\n",
      "Çift Sayı\n"
     ]
    }
   ],
   "source": [
    "# 1.\n",
    "sayi = int(input ('Sayı :'))\n",
    "if(int(sayi)%2==0):\n",
    "      print(\"Çift Sayı\")\n",
    "else:\n",
    "      print(\"Tek Sayı\")"
   ]
  }
 ],
 "metadata": {
  "kernelspec": {
   "display_name": "Python 3",
   "language": "python",
   "name": "python3"
  },
  "language_info": {
   "codemirror_mode": {
    "name": "ipython",
    "version": 3
   },
   "file_extension": ".py",
   "mimetype": "text/x-python",
   "name": "python",
   "nbconvert_exporter": "python",
   "pygments_lexer": "ipython3",
   "version": "3.8.5"
  }
 },
 "nbformat": 4,
 "nbformat_minor": 4
}
