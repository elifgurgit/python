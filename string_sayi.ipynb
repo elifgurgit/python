{
 "cells": [
  {
   "cell_type": "code",
   "execution_count": 5,
   "metadata": {},
   "outputs": [
    {
     "name": "stdout",
     "output_type": "stream",
     "text": [
      "AHMET - MEHMET - HAKAN\n"
     ]
    }
   ],
   "source": [
    "# 3.\n",
    "def TemizVeri():\n",
    "      \n",
    "    ilk_string = \"Ah5me4t\"\n",
    "    ikinci_string = \"M9eHm4eT\"\n",
    "    ucuncu_string = \"Ha3K5a1n\"\n",
    "    \n",
    "    ilk_string = ''.join((item for item in ilk_string if not item.isdigit()))\n",
    "    \n",
    "    ikinci_string = ''.join((item for item in ikinci_string if not item.isdigit()))\n",
    "    \n",
    "    ucuncu_string = ''.join((item for item in ucuncu_string if not item.isdigit()))\n",
    "    \n",
    "    \n",
    "    print(ilk_string.upper(),'-',ikinci_string.upper(),'-',ucuncu_string.upper())\n",
    "      \n",
    "\n",
    "TemizVeri()"
   ]
  },
  {
   "cell_type": "code",
   "execution_count": null,
   "metadata": {},
   "outputs": [],
   "source": []
  }
 ],
 "metadata": {
  "kernelspec": {
   "display_name": "Python 3",
   "language": "python",
   "name": "python3"
  },
  "language_info": {
   "codemirror_mode": {
    "name": "ipython",
    "version": 3
   },
   "file_extension": ".py",
   "mimetype": "text/x-python",
   "name": "python",
   "nbconvert_exporter": "python",
   "pygments_lexer": "ipython3",
   "version": "3.8.5"
  }
 },
 "nbformat": 4,
 "nbformat_minor": 4
}
