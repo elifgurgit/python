{
 "cells": [
  {
   "cell_type": "code",
   "execution_count": null,
   "metadata": {},
   "outputs": [],
   "source": [
    "sayi = int(input('Sayı : '))\n",
    "if sayi > 1 :\n",
    "    for i in range(2,sayi):\n",
    "        if(sayi % i) == 0:\n",
    "            print (sayi , 'Asal sayı değildir.')\n",
    "            break\n",
    "    else:\n",
    "        print(sayi,'Asal sayıdır.')\n",
    "else:\n",
    "     print(sayi , 'Asal sayı değildir.')"
   ]
  },
  {
   "cell_type": "code",
   "execution_count": null,
   "metadata": {},
   "outputs": [],
   "source": []
  }
 ],
 "metadata": {
  "kernelspec": {
   "display_name": "Python 3",
   "language": "python",
   "name": "python3"
  },
  "language_info": {
   "codemirror_mode": {
    "name": "ipython",
    "version": 3
   },
   "file_extension": ".py",
   "mimetype": "text/x-python",
   "name": "python",
   "nbconvert_exporter": "python",
   "pygments_lexer": "ipython3",
   "version": "3.8.5"
  }
 },
 "nbformat": 4,
 "nbformat_minor": 4
}
