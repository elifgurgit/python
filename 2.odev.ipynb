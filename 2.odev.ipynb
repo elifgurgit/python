{
 "cells": [
  {
   "cell_type": "code",
   "execution_count": null,
   "metadata": {},
   "outputs": [],
   "source": [
    "file = open(\"odev.txt\",\"r\")\n",
    "list = file.readlines()\n",
    "for i in list:\n",
    "    n_list = ''.join(filter(lambda x: not x.isdigit(),i))\n",
    "    a= n_list.replace('=',\"\")\n",
    "    b= a.replace('+',\"\")\n",
    "    c= b.replace('-',\"\")\n",
    "    d= c.replace('(',\"\")\n",
    "    e= d.replace(')',\"\")\n",
    "    f= e.replace('?',\"\")\n",
    "    g=f.rstrip(\"\\n\")\n",
    "    print(g)"
   ]
  }
 ],
 "metadata": {
  "kernelspec": {
   "display_name": "Python 3",
   "language": "python",
   "name": "python3"
  },
  "language_info": {
   "codemirror_mode": {
    "name": "ipython",
    "version": 3
   },
   "file_extension": ".py",
   "mimetype": "text/x-python",
   "name": "python",
   "nbconvert_exporter": "python",
   "pygments_lexer": "ipython3",
   "version": "3.8.5"
  }
 },
 "nbformat": 4,
 "nbformat_minor": 4
}
